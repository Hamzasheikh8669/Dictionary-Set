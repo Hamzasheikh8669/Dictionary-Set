{
  "nbformat": 4,
  "nbformat_minor": 0,
  "metadata": {
    "colab": {
      "provenance": []
    },
    "kernelspec": {
      "name": "python3",
      "display_name": "Python 3"
    },
    "language_info": {
      "name": "python"
    }
  },
  "cells": [
    {
      "cell_type": "markdown",
      "source": [
        "# Dictionary in python\n"
      ],
      "metadata": {
        "id": "92eiWg5UUc5N"
      }
    },
    {
      "cell_type": "code",
      "execution_count": null,
      "metadata": {
        "colab": {
          "base_uri": "https://localhost:8080/"
        },
        "id": "BN0bir_0TxSN",
        "outputId": "d28d300c-6784-40c3-bc34-9de9903df3ed"
      },
      "outputs": [
        {
          "output_type": "stream",
          "name": "stdout",
          "text": [
            "{'name': 'hamza', 'age': 20, 'gender': 'male', 'is_adult': True, 'skills': ['python', 'java', 'c++']}\n",
            "hamza\n",
            "20\n",
            "male\n"
          ]
        }
      ],
      "source": [
        "#  Dictionary are mutable in python\n",
        "  # different data types are acceptable in python\n",
        "\n",
        "info = {\n",
        "    \"name\": \"hamza\",\n",
        "    \"age\": 20,\n",
        "    \"gender\": \"male\",\n",
        "    \"is_adult\": True,\n",
        "    \"skills\": [\"python\", \"java\", \"c++\"],\n",
        "\n",
        "}\n",
        "\n",
        "print(info)\n",
        "print(info[\"name\"])\n",
        "print(info[\"age\"])\n",
        "print(info[\"gender\"])\n",
        "\n"
      ]
    },
    {
      "cell_type": "code",
      "source": [
        "student = {\n",
        "     \"name\": \"hamza\",\n",
        "     \"age\": 20,\n",
        "     \"gender\": \"male\",\n",
        "     \"skills\": [\"python\", \"java\", \"c++\"],\n",
        "     \"topics\": (\"Dict\",\"set\",\"tuple\")\n",
        "}\n",
        "\n",
        "print(student)\n",
        "print(student[\"skills\"])\n",
        "\n",
        "student[\"age\"] = 21\n",
        "print(student)\n",
        "\n",
        "student[\"skills\"].append(\"c#\")\n",
        "print(student)\n",
        "\n",
        "null_dict = {}\n",
        "null_dict[\"name\"] = \"hamza\"\n",
        "print(null_dict)\n",
        "\n",
        "\n",
        "\n",
        "\n"
      ],
      "metadata": {
        "colab": {
          "base_uri": "https://localhost:8080/"
        },
        "id": "bg8zQJ3MWMRb",
        "outputId": "8c54d283-1560-4246-bc5a-4166a29cac20"
      },
      "execution_count": null,
      "outputs": [
        {
          "output_type": "stream",
          "name": "stdout",
          "text": [
            "{'name': 'hamza', 'age': 20, 'gender': 'male', 'skills': ['python', 'java', 'c++'], 'topics': ('Dict', 'set', 'tuple')}\n",
            "['python', 'java', 'c++']\n",
            "{'name': 'hamza', 'age': 21, 'gender': 'male', 'skills': ['python', 'java', 'c++'], 'topics': ('Dict', 'set', 'tuple')}\n",
            "{'name': 'hamza', 'age': 21, 'gender': 'male', 'skills': ['python', 'java', 'c++', 'c#'], 'topics': ('Dict', 'set', 'tuple')}\n",
            "{'name': 'hamza'}\n"
          ]
        }
      ]
    },
    {
      "cell_type": "code",
      "source": [
        "# Nested dict\n",
        "stu = {\n",
        "    \"name\" : \"Hamza\",\n",
        "    \"age\" : 21,\n",
        "    \"subjects\":{\n",
        "        \"chem\" : 98,\n",
        "        \"phy\" : 97,\n",
        "        \"math\" : 96,\n",
        "    }\n",
        "    }\n",
        "\n",
        "print(stu)\n",
        "print(stu[\"subjects\"][\"phy\"])"
      ],
      "metadata": {
        "colab": {
          "base_uri": "https://localhost:8080/"
        },
        "id": "fq2pbDAhXp2T",
        "outputId": "2a8c076d-d5af-4b28-f1c4-6f3f3df7b880"
      },
      "execution_count": null,
      "outputs": [
        {
          "output_type": "stream",
          "name": "stdout",
          "text": [
            "{'name': 'Hamza', 'age': 21, 'subjects': {'chem': 98, 'phy': 97, 'math': 96}}\n",
            "97\n"
          ]
        }
      ]
    },
    {
      "cell_type": "markdown",
      "source": [
        "# Dictionary methods"
      ],
      "metadata": {
        "id": "Sgxs4eYDZj1S"
      }
    },
    {
      "cell_type": "code",
      "source": [
        "# .keys method (this method returns all keys)\n",
        "student = {\n",
        "     \"name\": \"hamza\",\n",
        "     \"age\": 20,\n",
        "     \"gender\": \"male\",\n",
        "     \"skills\": [\"python\", \"java\", \"c++\"],\n",
        "     \"topics\": (\"Dict\",\"set\",\"tuple\")\n",
        "}\n",
        "print(student.keys())\n"
      ],
      "metadata": {
        "colab": {
          "base_uri": "https://localhost:8080/"
        },
        "id": "BLW_LK1NZi9_",
        "outputId": "21399d37-4781-4ce7-9dbd-56a8a4542e41"
      },
      "execution_count": null,
      "outputs": [
        {
          "output_type": "stream",
          "name": "stdout",
          "text": [
            "dict_keys(['name', 'age', 'gender', 'skills', 'topics'])\n"
          ]
        }
      ]
    },
    {
      "cell_type": "code",
      "source": [
        "# values method (this method returns all values)\n",
        "student = {\n",
        "     \"name\": \"hamza\",\n",
        "     \"age\": 20,\n",
        "     \"gender\": \"male\",\n",
        "     \"skills\": [\"python\", \"java\", \"c++\"],\n",
        "     \"topics\": (\"Dict\",\"set\",\"tuple\")\n",
        "}\n",
        "\n",
        "print(len(list(student.values()))) #print dict then casting in list then print a length"
      ],
      "metadata": {
        "colab": {
          "base_uri": "https://localhost:8080/"
        },
        "id": "U6MAseP6aU4n",
        "outputId": "8546dd56-bec9-4ba0-89d5-eedec14c0505"
      },
      "execution_count": null,
      "outputs": [
        {
          "output_type": "stream",
          "name": "stdout",
          "text": [
            "5\n"
          ]
        }
      ]
    },
    {
      "cell_type": "code",
      "source": [
        "# .items method (this method returns all key value pairs in dict)\n",
        "student = {\n",
        "     \"name\": \"hamza\",\n",
        "     \"age\": 20,\n",
        "     \"gender\": \"male\",\n",
        "     \"skills\": [\"python\", \"java\", \"c++\"],\n",
        "     \"topics\": (\"Dict\",\"set\",\"tuple\")\n",
        "}\n",
        "print(list(student.items()))\n",
        "\n",
        "\n"
      ],
      "metadata": {
        "colab": {
          "base_uri": "https://localhost:8080/"
        },
        "id": "ei9mLkKXa003",
        "outputId": "540d24af-0273-4ee0-bc87-311d90d25591"
      },
      "execution_count": null,
      "outputs": [
        {
          "output_type": "stream",
          "name": "stdout",
          "text": [
            "[('name', 'hamza'), ('age', 20), ('gender', 'male'), ('skills', ['python', 'java', 'c++']), ('topics', ('Dict', 'set', 'tuple'))]\n"
          ]
        }
      ]
    },
    {
      "cell_type": "code",
      "source": [
        "# get method (this method return the key according to value)\n",
        "student = {\n",
        "     \"name\": \"hamza\",\n",
        "     \"age\": 20,\n",
        "     \"gender\": \"male\",\n",
        "     \"skills\": [\"python\", \"java\", \"c++\"],\n",
        "     \"topics\": (\"Dict\",\"set\",\"tuple\")\n",
        "}\n",
        "\n",
        "# print(student[\"name2\"]) #throw error\n",
        "print(student.get(\"name2\")) #print None  (always prefer on methods)\n",
        "print(student.get(\"skills\"))\n"
      ],
      "metadata": {
        "colab": {
          "base_uri": "https://localhost:8080/"
        },
        "id": "_7xiO15xcAli",
        "outputId": "61fd4bbc-19a0-475f-9e22-0e2beec1ff65"
      },
      "execution_count": null,
      "outputs": [
        {
          "output_type": "stream",
          "name": "stdout",
          "text": [
            "None\n",
            "['python', 'java', 'c++']\n"
          ]
        }
      ]
    },
    {
      "cell_type": "code",
      "source": [
        "# update method\n",
        "student = {\n",
        "     \"name\": \"hamza\",\n",
        "     \"age\": 20,\n",
        "     \"gender\": \"male\",\n",
        "     \"skills\": [\"python\", \"java\", \"c++\"],\n",
        "     \"topics\": (\"Dict\",\"set\",\"tuple\")\n",
        "}\n",
        "print(student)\n",
        "student.update({\"insitute\":\"PIAIC\"})\n",
        "print(student)\n"
      ],
      "metadata": {
        "colab": {
          "base_uri": "https://localhost:8080/"
        },
        "id": "21VwfTAPdRcv",
        "outputId": "cf7a5387-a8b8-4fe9-d751-0c0f363ab652"
      },
      "execution_count": null,
      "outputs": [
        {
          "output_type": "stream",
          "name": "stdout",
          "text": [
            "{'name': 'hamza', 'age': 20, 'gender': 'male', 'skills': ['python', 'java', 'c++'], 'topics': ('Dict', 'set', 'tuple')}\n",
            "{'name': 'hamza', 'age': 20, 'gender': 'male', 'skills': ['python', 'java', 'c++'], 'topics': ('Dict', 'set', 'tuple'), 'insitute': 'PIAIC'}\n"
          ]
        }
      ]
    },
    {
      "cell_type": "markdown",
      "source": [
        "# Set in python"
      ],
      "metadata": {
        "id": "dWI7YkfPmKTY"
      }
    },
    {
      "cell_type": "code",
      "source": [
        "# set are mutable but its elements are immutable entered only unique values duplicate values are ignore in set\n",
        "# allow in set -> strings , float, tuple, int (immutable types)\n",
        "# not allow in set -> list, dict (mutable types)\n",
        "# print unordered items\n",
        "\n",
        "nums = {1,2,3,4,5,6,7,8,9,10}\n",
        "print(nums)\n",
        "# print(type(nums))\n",
        "\n",
        "# empty set\n",
        "null_set = set()\n",
        "print(type(null_set))\n",
        "\n",
        "collection = {\"hello\",1,\"world\",2,5,6,\"python\",\"hello\"}\n",
        "print(collection)\n",
        "print(len(collection)) #length also ignore duplicates values\n",
        "\n"
      ],
      "metadata": {
        "colab": {
          "base_uri": "https://localhost:8080/"
        },
        "id": "8TLpFOS3mMyK",
        "outputId": "d1a8226a-f7c9-4a4d-bab4-08bf013b98dd"
      },
      "execution_count": null,
      "outputs": [
        {
          "output_type": "stream",
          "name": "stdout",
          "text": [
            "{1, 2, 3, 4, 5, 6, 7, 8, 9, 10}\n",
            "<class 'set'>\n",
            "{'hello', 1, 2, 5, 6, 'world', 'python'}\n",
            "7\n"
          ]
        }
      ]
    },
    {
      "cell_type": "markdown",
      "source": [
        "# Set methods"
      ],
      "metadata": {
        "id": "N7bmWrwNoM7N"
      }
    },
    {
      "cell_type": "code",
      "source": [
        "# Set Methods\n",
        "\n",
        "# add method\n",
        "\n",
        "nums = {1,2,3,4,5,6,3,9,6,5}\n",
        "nums.add(11)\n",
        "print(nums)\n",
        "\n",
        "\n",
        "names = {\"hamza\",\"waleed\",\"asad\",\"tariq\",\"sharib\",\"Muneeb\"}\n",
        "names.add(\"malaas\")\n",
        "print(names)\n"
      ],
      "metadata": {
        "colab": {
          "base_uri": "https://localhost:8080/"
        },
        "id": "t6nNHmX4oGcJ",
        "outputId": "ef3b0562-fa83-4e20-fc24-b0687e8a1a58"
      },
      "execution_count": null,
      "outputs": [
        {
          "output_type": "stream",
          "name": "stdout",
          "text": [
            "{1, 2, 3, 4, 5, 6, 9, 11}\n",
            "{'Muneeb', 'waleed', 'tariq', 'asad', 'malaas', 'hamza', 'sharib'}\n"
          ]
        }
      ]
    },
    {
      "cell_type": "code",
      "source": [
        "# remove method\n",
        "\n",
        "nums = {1,2,3,4,5,6,3,9,6,5}\n",
        "nums.remove(3)\n",
        "print(nums)\n",
        "\n",
        "collection = {\"hello\",1,\"world\",2,5,6,\"python\",\"hello\"}\n",
        "collection.remove(\"hello\") # one element are allowed\n",
        "print(collection)"
      ],
      "metadata": {
        "colab": {
          "base_uri": "https://localhost:8080/"
        },
        "id": "6YY8KXEepVEU",
        "outputId": "937be527-dbae-4bb4-d05c-6e5ed61a4ffc"
      },
      "execution_count": null,
      "outputs": [
        {
          "output_type": "stream",
          "name": "stdout",
          "text": [
            "{1, 2, 4, 5, 6, 9}\n",
            "{1, 2, 5, 6, 'world', 'python'}\n"
          ]
        }
      ]
    },
    {
      "cell_type": "code",
      "source": [
        "# clear method (return a empty set)\n",
        "\n",
        "\n",
        "collection = {\"hello\",1,\"world\",2,5,6,\"python\",\"hello\"}\n",
        "collection.clear()\n",
        "print(collection) #set()\n",
        "print(len(collection)) #0"
      ],
      "metadata": {
        "colab": {
          "base_uri": "https://localhost:8080/"
        },
        "id": "PO4-tuo9p07i",
        "outputId": "fdf736c5-333a-475e-fe00-6a8f5c0089e1"
      },
      "execution_count": null,
      "outputs": [
        {
          "output_type": "stream",
          "name": "stdout",
          "text": [
            "set()\n",
            "0\n"
          ]
        }
      ]
    },
    {
      "cell_type": "code",
      "source": [
        "# pop method (delete a random value)\n",
        "\n",
        "collection = {2,3,4,5,3,4,6,3,6}\n",
        "print(collection.pop())\n"
      ],
      "metadata": {
        "colab": {
          "base_uri": "https://localhost:8080/"
        },
        "id": "FzdP79N7qpLQ",
        "outputId": "0cce909a-cec5-4e7a-cdc9-e9e4a18aa445"
      },
      "execution_count": null,
      "outputs": [
        {
          "output_type": "stream",
          "name": "stdout",
          "text": [
            "2\n"
          ]
        }
      ]
    },
    {
      "cell_type": "code",
      "source": [
        "# union method\n",
        "set1 = {1,2,3,4}\n",
        "set2 = {3,4,5,6}\n",
        "print(set1.union(set2))\n",
        "print(set1)\n",
        "print(set2)"
      ],
      "metadata": {
        "colab": {
          "base_uri": "https://localhost:8080/"
        },
        "id": "1u7W_xDJsSL3",
        "outputId": "7182ced9-302e-4bc3-c20d-60c96918d1a0"
      },
      "execution_count": null,
      "outputs": [
        {
          "output_type": "stream",
          "name": "stdout",
          "text": [
            "{1, 2, 3, 4, 5, 6}\n",
            "{1, 2, 3, 4}\n",
            "{3, 4, 5, 6}\n"
          ]
        }
      ]
    },
    {
      "cell_type": "code",
      "source": [
        "# intersection method\n",
        "set1 = {1,2,3,4}\n",
        "set2 = {3,4,5,6}\n",
        "print(set1.intersection(set2))"
      ],
      "metadata": {
        "colab": {
          "base_uri": "https://localhost:8080/"
        },
        "id": "AGN1B2x-sZB6",
        "outputId": "37d0ec25-3a15-4bea-aec3-3266fa7b3cad"
      },
      "execution_count": null,
      "outputs": [
        {
          "output_type": "stream",
          "name": "stdout",
          "text": [
            "{3, 4}\n"
          ]
        }
      ]
    },
    {
      "cell_type": "code",
      "source": [
        "# ques 1\n",
        "dict = {\n",
        "    \"table\": [\"a piece of furniture\", \"lists of facts and figure\"],\n",
        "    \"cat\" : \"a small animal\"\n",
        "\n",
        "}\n",
        "print(dict)\n"
      ],
      "metadata": {
        "colab": {
          "base_uri": "https://localhost:8080/"
        },
        "id": "cmL4uaGU0W7_",
        "outputId": "20afe1bc-2190-43ad-b45c-dca411051e7a"
      },
      "execution_count": null,
      "outputs": [
        {
          "output_type": "stream",
          "name": "stdout",
          "text": [
            "{'table': ['a piece of furniture', 'lists of facts and figure'], 'cat': 'a small animal'}\n"
          ]
        }
      ]
    },
    {
      "cell_type": "code",
      "source": [
        "# ques 2\n",
        "subjects = {\"python\",\"java\",\"c++\",\"python\",\"javascript\",\"java\",\"python\",\"java\",\"c++\",\"c\"}\n",
        "print(len(subjects))"
      ],
      "metadata": {
        "colab": {
          "base_uri": "https://localhost:8080/"
        },
        "id": "Pbf6C7891kSJ",
        "outputId": "5c19cffa-8972-4723-bd7e-72557e470caf"
      },
      "execution_count": null,
      "outputs": [
        {
          "output_type": "stream",
          "name": "stdout",
          "text": [
            "5\n"
          ]
        }
      ]
    },
    {
      "cell_type": "code",
      "source": [
        "# ques 3\n",
        "marks = {}\n",
        "x= int(input(\"enter phy :\"))\n",
        "marks.update({\"phy\":x})\n",
        "y= int(input(\"enter chem :\"))\n",
        "marks.update({\"chem\":y})\n",
        "z= int(input(\"enter math :\"))\n",
        "marks.update({\"math\":z})\n",
        "print(marks)\n"
      ],
      "metadata": {
        "colab": {
          "base_uri": "https://localhost:8080/"
        },
        "id": "9jXQg3Wq2TT0",
        "outputId": "eaa9064e-ea34-4db9-a7e5-395dd97d30a6"
      },
      "execution_count": null,
      "outputs": [
        {
          "output_type": "stream",
          "name": "stdout",
          "text": [
            "enter phy :90\n",
            "enter chem :98\n",
            "enter math :88\n",
            "{'phy': 90, 'chem': 98, 'math': 88}\n"
          ]
        }
      ]
    },
    {
      "cell_type": "code",
      "source": [
        "# ques 4\n",
        "st = {9,0,\"9\"}\n",
        "print(st)\n",
        "\n",
        "# 2nd method\n",
        "values = {\n",
        "    (\"int :\", 9),\n",
        "    (\"float\" , 9.0)\n",
        "}\n",
        "print(values)\n",
        "\n"
      ],
      "metadata": {
        "colab": {
          "base_uri": "https://localhost:8080/"
        },
        "id": "BRs9IUzy5AGc",
        "outputId": "f8a29341-cb49-461f-c6fc-4f290d12c423"
      },
      "execution_count": null,
      "outputs": [
        {
          "output_type": "stream",
          "name": "stdout",
          "text": [
            "{0, 9, '9'}\n",
            "{('float', 9.0), ('int :', 9)}\n"
          ]
        }
      ]
    }
  ]
}